{
  "nbformat": 4,
  "nbformat_minor": 0,
  "metadata": {
    "colab": {
      "provenance": []
    },
    "kernelspec": {
      "name": "python3",
      "display_name": "Python 3"
    },
    "language_info": {
      "name": "python"
    }
  },
  "cells": [
    {
      "cell_type": "markdown",
      "source": [
        "# Plot Results WebXR from Experiment\n",
        "Author: Khushi Bhansali\n",
        "\n",
        "This code is designed to analyze and visualize contrast sensitivity data from multiple experiments by processing and aggregating results from several JSON files. Each file compiles the experimental data, capturing information such as participant ID, spatial frequency, contrast threshold, maximum frequency, trial time, and the position of the visual target. Specifically, values for frequency, max frequency, and step are scaled by a factor of 26, while the size standard deviation is adjusted by a factor of 10. The JSON format also includes details about the target location and background noise, with all trial data stored in the `responses` array. The code combines this data across experiments, calculating the average contrast sensitivity for each unique combination of spatial frequency and target position. It then generates up to nine plots representing the Contrast Sensitivity Function (CSF) for different regions of the visual field, providing a clear visualization of the experimental outcomes.\n",
        "\n",
        "**How to use this code effectively:**\n",
        "Set the Folder Path: Replace the folder_path variable with the path to your folder containing the resulting JSON files from your experiments.\n",
        "\n",
        "\n",
        "`folder_path = '/path/to/your/folder'`\n",
        "\n",
        "\n",
        "**Run the Script:** Execute the script after setting the correct folder path.\n",
        "\n",
        "\n",
        "**Interpret the Results:** The script will generate a figure with up to 9 subplots, each representing a different position in the visual field. These plots show how contrast sensitivity changes with spatial frequency for each position.\n",
        "\n",
        "**What the Plots Show**\n",
        "\n",
        "\n",
        "*   X-axis: Spatial Frequency (cycles/degree)\n",
        "\n",
        "*   Y-axis: Contrast Sensitivity Function (CSF) on a logarithmic scale. Each plot represents a different position in the visual field.\n",
        "\n",
        "*  The line in each plot shows the average contrast sensitivity across all processed files for that position.\n",
        "\n",
        "This tool is valuable for researchers and clinicians studying visual perception, as it provides a comprehensive view of how contrast sensitivity varies across different spatial frequencies and positions in the visual field, aggregated from multiple experimental results.\n",
        "\n",
        "---"
      ],
      "metadata": {
        "id": "RGPHPwTUolh-"
      }
    },
    {
      "cell_type": "markdown",
      "source": [
        "**Run this cell to import nessecary dependencies for python code below**\n"
      ],
      "metadata": {
        "id": "v2z3ZKOpqcXc"
      }
    },
    {
      "cell_type": "code",
      "source": [
        "import os\n",
        "import json\n",
        "import pandas as pd\n",
        "import numpy as np\n",
        "import matplotlib.pyplot as plt"
      ],
      "metadata": {
        "id": "UUayOW3vgh_a"
      },
      "execution_count": 3,
      "outputs": []
    },
    {
      "cell_type": "markdown",
      "source": [
        "#Plot contrast sensitivity graphs"
      ],
      "metadata": {
        "id": "JW1pVnCmqRUT"
      }
    },
    {
      "cell_type": "code",
      "source": [
        "# Replace with your folder path\n",
        "folder_path =  ''"
      ],
      "metadata": {
        "id": "8sxcxSEcrOGJ"
      },
      "execution_count": 28,
      "outputs": []
    },
    {
      "cell_type": "code",
      "source": [
        "def openFile(path):\n",
        "    with open(path, 'r') as f:\n",
        "        return json.loads(f.read())\n",
        "\n",
        "def reorder(df_nested_list):\n",
        "\n",
        "    # Convert position to string and then check for unique values\n",
        "    positions = df_nested_list['position'].astype(str).unique()\n",
        "\n",
        "    # If more than one position, drop the first row\n",
        "    if len(positions) > 1:\n",
        "        df_nested_list = df_nested_list.iloc[1:].reset_index(drop=True)\n",
        "\n",
        "\n",
        "    n = len(df_nested_list)\n",
        "    for index, row in df_nested_list.iterrows():\n",
        "        if (index-1)%9 == 0 and index+4 < n:\n",
        "            center = df_nested_list.loc[index].values\n",
        "            df_nested_list.loc[index] = df_nested_list.loc[index+1].values\n",
        "            df_nested_list.loc[index+1] = df_nested_list.loc[index+2].values\n",
        "            df_nested_list.loc[index+2] = df_nested_list.loc[index+3].values\n",
        "            df_nested_list.loc[index+3] = df_nested_list.loc[index+4].values\n",
        "            df_nested_list.loc[index+4] = center\n",
        "    return df_nested_list\n",
        "\n",
        "def process_file(file_path):\n",
        "    data = openFile(file_path)\n",
        "    df_nested_list = pd.json_normalize(data, record_path=['responses'])\n",
        "    df_nested_list = reorder(df_nested_list)\n",
        "\n",
        "    df_combined = df_nested_list[[\"frequency\", \"position\", \"contrast\"]].copy()\n",
        "    df_combined.loc[:, 'position'] = df_combined[\"position\"].map(str)\n",
        "    df_combined.loc[:, 'frequency'] = df_combined['frequency'].map(float)\n",
        "    df_combined.loc[:, 'contrast'] = df_combined['contrast'].map(float)\n",
        "    df_combined.loc[:, 'contrast'] = 1 / df_combined['contrast']\n",
        "\n",
        "    return df_combined\n",
        "\n",
        "def plot_results(df_combined):\n",
        "    positions = df_combined['position'].unique()\n",
        "    num_positions = len(positions)\n",
        "\n",
        "    # Determine the grid size based on the number of positions\n",
        "    if num_positions <= 1:\n",
        "        fig, ax = plt.subplots(1, 1, figsize=(8, 6))\n",
        "        axes = [ax]\n",
        "    else:\n",
        "        rows = int(np.ceil(np.sqrt(num_positions)))\n",
        "        cols = int(np.ceil(num_positions / rows))\n",
        "        fig, axes = plt.subplots(rows, cols, figsize=(5*cols, 4*rows))\n",
        "        axes = axes.flatten()\n",
        "\n",
        "    for i, position in enumerate(positions):\n",
        "        ax = axes[i]\n",
        "        subset = df_combined[df_combined['position'] == position]\n",
        "\n",
        "        # Group by frequency and calculate mean, std, and standard error\n",
        "        stats = subset.groupby('frequency')['contrast'].agg(['mean', 'std', 'count'])\n",
        "        stats['stderr'] = stats['std'] / np.sqrt(stats['count'])\n",
        "\n",
        "        # Check if there's more than one data point per frequency\n",
        "        multiple_data_points = (stats['count'] > 1).any()\n",
        "\n",
        "        if not stats.empty and not stats['std'].isnull().all() and multiple_data_points:\n",
        "            # Plot with error bars for standard deviation and standard error\n",
        "            ax.errorbar(stats.index, stats['mean'], yerr=stats['std'], fmt='o-', label='Mean ± Std Dev')\n",
        "            ax.errorbar(stats.index, stats['mean'], yerr=stats['stderr'], fmt='o-', label='Mean ± Std Error', linestyle='--', color='gray')\n",
        "        else:\n",
        "            # Plot without error bars if no variation in data\n",
        "            ax.plot(stats.index, stats['mean'], 'o-', label='Mean')\n",
        "\n",
        "        ax.set_xlabel('Spatial Frequency (cycles/degree)')\n",
        "        ax.set_ylabel('Contrast Sensitivity Function (CSF)')\n",
        "        ax.set_yscale('log')\n",
        "        ax.set_ylim(0.5, 200)\n",
        "        ax.set_title(f'Position {position}')\n",
        "        ax.grid(True)\n",
        "        ax.legend()\n",
        "\n",
        "    # Remove any unused subplots\n",
        "    for j in range(i+1, len(axes)):\n",
        "        fig.delaxes(axes[j])\n",
        "\n",
        "    plt.tight_layout()\n",
        "    plt.show()\n",
        "\n",
        "# Main execution\n",
        "all_dfs = []\n",
        "\n",
        "for filename in os.listdir(folder_path):\n",
        "    if filename.endswith('.json'):\n",
        "        file_path = os.path.join(folder_path, filename)\n",
        "        df = process_file(file_path)\n",
        "        all_dfs.append(df)\n",
        "\n",
        "# Concatenate all dataframes\n",
        "df_combined = pd.concat(all_dfs, ignore_index=True)\n",
        "\n",
        "# Plot the results\n",
        "plot_results(df_combined)"
      ],
      "metadata": {
        "id": "NEOKgXeWsex7"
      },
      "execution_count": null,
      "outputs": []
    }
  ]
}